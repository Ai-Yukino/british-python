{
 "cells": [
  {
   "cell_type": "markdown",
   "id": "272b11a0-a38b-4968-9ede-227264603122",
   "metadata": {},
   "source": [
    "1) Accept the user's first and last name and print them in reverse order with a space between them"
   ]
  },
  {
   "cell_type": "code",
   "execution_count": 5,
   "id": "a5826fb6-46a8-4b9f-90a3-1f3ff349f2ea",
   "metadata": {},
   "outputs": [
    {
     "name": "stdin",
     "output_type": "stream",
     "text": [
      "What's your first name?\n",
      " AI\n",
      "Alright, well what about your last name?\n",
      " Yukino\n"
     ]
    },
    {
     "name": "stdout",
     "output_type": "stream",
     "text": [
      "---\n",
      " Yukino AI \n",
      "---\n"
     ]
    }
   ],
   "source": [
    "# https://docs.python.org/3/library/functions.html#input\n",
    "first_name = input(\"What's your first name?\\n\")\n",
    "last_name = input(\"Alright, well what about your last name?\\n\")\n",
    "print(\"---\\n\", last_name, first_name, \"\\n---\")"
   ]
  },
  {
   "cell_type": "markdown",
   "id": "681636e5-3817-4262-9434-921e4e794b75",
   "metadata": {},
   "source": [
    "2) Accept an integer $n$ input from the user and compute the value of\n",
    "\n",
    "$$n + nn + nnn.$$\n",
    "\n",
    "For example if $n = 4$, then\n",
    "\n",
    "$$n + nn + nnn = 4 + 44 + 444 + 492.$$"
   ]
  },
  {
   "cell_type": "code",
   "execution_count": null,
   "id": "1f21e5ed-0b7f-4442-9ffe-cc3b7ebe6c62",
   "metadata": {},
   "outputs": [],
   "source": []
  }
 ],
 "metadata": {
  "jupytext": {
   "formats": "ipynb,py"
  },
  "kernelspec": {
   "display_name": "Python 3 (ipykernel)",
   "language": "python",
   "name": "python3"
  },
  "language_info": {
   "codemirror_mode": {
    "name": "ipython",
    "version": 3
   },
   "file_extension": ".py",
   "mimetype": "text/x-python",
   "name": "python",
   "nbconvert_exporter": "python",
   "pygments_lexer": "ipython3",
   "version": "3.10.2"
  }
 },
 "nbformat": 4,
 "nbformat_minor": 5
}
