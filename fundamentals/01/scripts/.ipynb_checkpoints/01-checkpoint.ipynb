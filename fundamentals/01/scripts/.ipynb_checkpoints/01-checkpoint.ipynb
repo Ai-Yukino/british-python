{
 "cells": [
  {
   "cell_type": "markdown",
   "id": "272b11a0-a38b-4968-9ede-227264603122",
   "metadata": {},
   "source": [
    "1) Accept the user's first and last name and print them in reverse order with a space between them"
   ]
  },
  {
   "cell_type": "code",
   "execution_count": 28,
   "id": "a5826fb6-46a8-4b9f-90a3-1f3ff349f2ea",
   "metadata": {},
   "outputs": [
    {
     "name": "stdin",
     "output_type": "stream",
     "text": [
      "What's your first name?\n",
      " Ai\n",
      "Alright, well what about your last name?\n",
      " Yukino\n"
     ]
    },
    {
     "name": "stdout",
     "output_type": "stream",
     "text": [
      "---\n",
      " Yukino Ai \n",
      "---\n"
     ]
    }
   ],
   "source": [
    "# https://docs.python.org/3/library/functions.html#input\n",
    "\n",
    "first_name = input(\"What's your first name?\\n\")\n",
    "last_name = input(\"Alright, well what about your last name?\\n\")\n",
    "print(\"---\\n\", last_name, first_name, \"\\n---\")"
   ]
  },
  {
   "cell_type": "markdown",
   "id": "681636e5-3817-4262-9434-921e4e794b75",
   "metadata": {},
   "source": [
    "2) Accept an integer $n$ input from the user and compute the value of\n",
    "\n",
    "$$n + nn + nnn.$$\n",
    "\n",
    "For example if $n = 4$, then\n",
    "\n",
    "$$n + nn + nnn = 4 + 44 + 444 = 492.$$"
   ]
  },
  {
   "cell_type": "code",
   "execution_count": 1,
   "id": "900e7807-1e5a-4fee-9df8-d337e7e5c95c",
   "metadata": {},
   "outputs": [
    {
     "name": "stdin",
     "output_type": "stream",
     "text": [
      "Enter a single-digit integer; n = -3\n"
     ]
    },
    {
     "name": "stdout",
     "output_type": "stream",
     "text": [
      "n + nn + nnn = -3 + -33 + -333 = -369.\n"
     ]
    }
   ],
   "source": [
    "# https://docs.python.org/3/library/functions.html#int\n",
    "# https://docs.python.org/3/reference/lexical_analysis.html#formatted-string-literals\n",
    "# n + nn + nnn = n * (1 + 11 + 111) = n * 123\n",
    "\n",
    "def get_input():\n",
    "    req = f\"Enter a single-digit integer; n =\"\n",
    "    res = input(req)\n",
    "    n = int(res)\n",
    "    return n\n",
    "\n",
    "# Validate input\n",
    "n = get_input()\n",
    "is_single = abs(n) < 10\n",
    "    \n",
    "# Repeat user input if validation fails    \n",
    "while is_single is False:\n",
    "    n = get_input()\n",
    "    is_single = abs(n) < 10\n",
    "\n",
    "# Compute nn, nnn, and n + nn + nnn\n",
    "if n < 0 : sign = \"-\"\n",
    "else : sign = \"\"\n",
    "\n",
    "n_string = sign + str(abs(n))\n",
    "nn_string = n_string +  str(abs(n))\n",
    "nnn_string = nn_string + str(abs(n))\n",
    "total = str(n * 123)\n",
    "\n",
    "# Print n + nn + nnn\n",
    "print(\"n + nn + nnn = \" + \n",
    "      n_string + \" + \" + \n",
    "      nn_string + \" + \" + \n",
    "      nnn_string + \" = \" +\n",
    "      total + \".\")"
   ]
  },
  {
   "cell_type": "markdown",
   "id": "e4af6ea6-dd88-4649-affa-c0e5ba8cb323",
   "metadata": {},
   "source": [
    "3) Ask the user \"What country are you from?\".  \n",
    "Then print the following statement:\n",
    "\n",
    "<center>\n",
    "    \"I have heard that [input] is a beautiful country!\"\n",
    "</center>"
   ]
  },
  {
   "cell_type": "code",
   "execution_count": 2,
   "id": "7ed5a51c-dae6-413f-8719-c435cbcebbdf",
   "metadata": {},
   "outputs": [
    {
     "name": "stdin",
     "output_type": "stream",
     "text": [
      "What country are you from? Klingon\n"
     ]
    },
    {
     "name": "stdout",
     "output_type": "stream",
     "text": [
      "I have heard that Klingon is a beautiful country!\n"
     ]
    }
   ],
   "source": [
    "# https://docs.python.org/3/reference/lexical_analysis.html#formatted-string-literals\n",
    "\n",
    "country = input(\"What country are you from?\")\n",
    "print(f\"I have heard that {country} is a beautiful country!\")"
   ]
  },
  {
   "cell_type": "markdown",
   "id": "2f5121c5-cd2f-4ce2-bb11-0279e3f2a09e",
   "metadata": {},
   "source": [
    "4) What is the output of the following Python code?\n",
    "\n",
    "```python\n",
    "x = 10\n",
    "y = 50\n",
    "if (x ** 2 > 100 and y < 100):\n",
    "       print(x,y)\n",
    "```"
   ]
  },
  {
   "cell_type": "markdown",
   "id": "f0287e8f-61c4-49b5-b84e-e17066af28ee",
   "metadata": {},
   "source": [
    "## Answer\n",
    "\n",
    "There is no output since \n",
    "\n",
    "$$ x^2 = 100 \\not< 100.$$"
   ]
  },
  {
   "cell_type": "code",
   "execution_count": 9,
   "id": "ad5823db-acaa-4254-a341-ec420e271027",
   "metadata": {},
   "outputs": [],
   "source": [
    "x = 10\n",
    "y = 50\n",
    "if (x ** 2 > 100 and y < 100):\n",
    "       print(x,y)\n",
    "# print(x ** 2 > 100 and y < 100)"
   ]
  },
  {
   "cell_type": "markdown",
   "id": "84655baa-4bfd-4c5d-9021-911aba52f44a",
   "metadata": {},
   "source": [
    "5) What is the output of the following (`+`) operator, and why does this code chunk execute this way?\n",
    "\n",
    "```python\n",
    "a = [10, 20]\n",
    "b = a\n",
    "b += [30, 40]\n",
    "print(a)\n",
    "print(b)\n",
    "```"
   ]
  },
  {
   "cell_type": "markdown",
   "id": "bd58a3c0-adda-4861-9d60-762944bc086b",
   "metadata": {
    "tags": []
   },
   "source": [
    "## Answer\n",
    "\n",
    "```\n",
    "[10, 20, 30, 40]\n",
    "[10, 20, 30, 40]\n",
    "```\n",
    "\n",
    "## Explanation\n",
    "\n",
    "Arrays are mutable data-types with pointers, so the code\n",
    "\n",
    "```python\n",
    "a = [10, 20]\n",
    "b = a\n",
    "b += [30, 40]\n",
    "print(a)\n",
    "print(b)\n",
    "```\n",
    "\n",
    "modifies the value to an underlying list object rather than creating new objects. See the following links for more details.\n",
    "\n",
    "- https://docs.python.org/3/glossary.html#term-mutable\n",
    "- https://docs.python.org/3/library/functions.html#id\n",
    "- https://docs.python.org/3/library/stdtypes.html#listhttps://docs.python.org/3/library/stdtypes.html#list"
   ]
  },
  {
   "cell_type": "code",
   "execution_count": 10,
   "id": "ae5a2cd5-1891-48d0-bff4-c2906e2a58cb",
   "metadata": {
    "tags": []
   },
   "outputs": [
    {
     "name": "stdout",
     "output_type": "stream",
     "text": [
      "[10, 20, 30, 40]\n",
      "[10, 20, 30, 40]\n",
      "type(a): <class 'list'>\n",
      "type(b): <class 'list'>\n",
      "id(a) == id(b): True\n"
     ]
    }
   ],
   "source": [
    "a = [10, 20]\n",
    "b = a\n",
    "b += [30, 40]\n",
    "print(a)\n",
    "print(b)\n",
    "\n",
    "print(f\"type(a): {type(a)}\")\n",
    "print(f\"type(b): {type(b)}\")\n",
    "print(f\"id(a) == id(b): {id(a) == id(b)}\")"
   ]
  },
  {
   "cell_type": "markdown",
   "id": "ff7c49bf-0264-4c77-bd54-deee5c6e9473",
   "metadata": {},
   "source": [
    "6) What is the out of the following code and what arithmetic operation is being used here?\n",
    "\n",
    "```python\n",
    "print(2%6)\n",
    "```"
   ]
  },
  {
   "cell_type": "markdown",
   "id": "74474d1c-803a-4386-8d43-6552d69c5463",
   "metadata": {},
   "source": [
    "## Answer\n",
    "\n",
    "```python\n",
    "2\n",
    "```\n",
    "\n",
    "## Explanation\n",
    "\n",
    "`%` is the modulo operator. See the following links for more details.\n",
    "\n",
    "- https://docs.python.org/3/reference/expressions.html#binary-arithmetic-operations\n",
    "- https://en.wikipedia.org/wiki/Modulo_operation"
   ]
  },
  {
   "cell_type": "code",
   "execution_count": 15,
   "id": "748a4c9b-79d6-4b1d-b943-97e45df4fc95",
   "metadata": {},
   "outputs": [
    {
     "name": "stdout",
     "output_type": "stream",
     "text": [
      "2\n"
     ]
    }
   ],
   "source": [
    "print(2%6)"
   ]
  },
  {
   "cell_type": "markdown",
   "id": "03add384-cf11-4011-af4e-dea46c48464e",
   "metadata": {},
   "source": [
    "7) What is the output of the following code and what arithmetic operators are used here?\n",
    "\n",
    "```python\n",
    "print(2 * 3 ** 3 * 4)\n",
    "```"
   ]
  },
  {
   "cell_type": "markdown",
   "id": "9df49306-dd10-4797-996b-895364638111",
   "metadata": {},
   "source": [
    "## Answer\n",
    "\n",
    "$$\n",
    "2 \\cdot 3 ^ 3 \\cdot 4 = 216\n",
    "$$\n",
    "\n",
    "Multiplication and exponention are the operators. See the following links for more details.\n",
    "\n",
    "- https://docs.python.org/3/reference/expressions.html#binary-arithmetic-operations\n",
    "- https://docs.python.org/3/reference/expressions.html?highlight=precedence#operator-precedenceprint(2 * 3 ** 3 * 4)"
   ]
  },
  {
   "cell_type": "code",
   "execution_count": 16,
   "id": "f1791297-6516-4040-b62d-b3833f441be1",
   "metadata": {},
   "outputs": [
    {
     "name": "stdout",
     "output_type": "stream",
     "text": [
      "216\n"
     ]
    }
   ],
   "source": [
    "print(2 * 3 ** 3 * 4)"
   ]
  },
  {
   "cell_type": "markdown",
   "id": "3715a720-8267-4b2e-af35-fc76370c1622",
   "metadata": {},
   "source": [
    "8) What is a text editor?"
   ]
  },
  {
   "cell_type": "markdown",
   "id": "6abc85be-b78e-4c39-9ebd-c109517efe58",
   "metadata": {},
   "source": [
    "## Answer\n",
    "\n",
    "A text editor is a program that allows you to literally just edit plain text. Some text editors such as [vim](https://en.wikipedia.org/wiki/Vim_(text_editor)) can be extended to have other features that are helpful for programming."
   ]
  },
  {
   "cell_type": "markdown",
   "id": "c1beabb0-e0af-45d0-9e92-e6c7a68a0149",
   "metadata": {},
   "source": [
    "9) What is python?"
   ]
  },
  {
   "cell_type": "markdown",
   "id": "6a26b50d-f668-4528-a9fe-a3c429ed4bbd",
   "metadata": {},
   "source": [
    "## Answer\n",
    "\n",
    "Python is an interpreted and dynamically-typed general-purpose programming language. See the following links for more details.\n",
    "\n",
    "- https://en.wikipedia.org/wiki/Python_(programming_language)\n",
    "- https://docs.python.org/3/"
   ]
  },
  {
   "cell_type": "markdown",
   "id": "811aab51-569f-4094-b1b5-bfade7a52726",
   "metadata": {
    "jp-MarkdownHeadingCollapsed": true,
    "tags": []
   },
   "source": [
    "10) What is jupyter notebook, what type of python environment is it, and what alternatives are there to jupyter notebook? "
   ]
  },
  {
   "cell_type": "markdown",
   "id": "2fe16b62-59d6-43ca-9cbd-1dba82d7b8b2",
   "metadata": {},
   "source": [
    "## Answer\n",
    "\n",
    "Jupyter notebook is an environment for interactive [REPL](https://en.wikipedia.org/wiki/Read%E2%80%93eval%E2%80%93print_loop) coding that supports languages such as python, R, and Julia among others. It can be used as an interactive python environment. Nowadays, there are alternatives such as using IDE's like VS Code/Codium and PyCharm that have support for interactive python notebooks."
   ]
  }
 ],
 "metadata": {
  "jupytext": {
   "formats": "ipynb,py"
  },
  "kernelspec": {
   "display_name": "Python 3 (ipykernel)",
   "language": "python",
   "name": "python3"
  },
  "language_info": {
   "codemirror_mode": {
    "name": "ipython",
    "version": 3
   },
   "file_extension": ".py",
   "mimetype": "text/x-python",
   "name": "python",
   "nbconvert_exporter": "python",
   "pygments_lexer": "ipython3",
   "version": "3.10.2"
  }
 },
 "nbformat": 4,
 "nbformat_minor": 5
}
